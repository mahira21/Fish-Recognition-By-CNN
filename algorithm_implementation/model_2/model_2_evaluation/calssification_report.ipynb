{
 "cells": [
  {
   "cell_type": "code",
   "execution_count": 1,
   "id": "4c5d1b61",
   "metadata": {},
   "outputs": [
    {
     "name": "stderr",
     "output_type": "stream",
     "text": [
      "Using TensorFlow backend.\n"
     ]
    }
   ],
   "source": [
    "import pandas as pd\n",
    "import tensorflow.keras as keras\n",
    "from keras.preprocessing.image import load_img\n",
    "import numpy as np\n",
    "from keras.preprocessing import image\n",
    "from matplotlib import  pyplot as plt\n",
    "import time\n",
    "import os\n",
    "import cv2\n",
    "from skimage import io\n",
    "import time\n",
    "from tensorflow.keras.preprocessing import image\n",
    "import numpy as np\n",
    "import matplotlib.pyplot as plt\n",
    "from tensorflow import keras \n",
    "from PIL import ImageFile\n",
    "ImageFile.LOAD_TRUNCATED_IMAGES = True\n",
    "model = keras.models.load_model('../model_2.h5') "
   ]
  },
  {
   "cell_type": "code",
   "execution_count": 2,
   "id": "0b2e03a2",
   "metadata": {},
   "outputs": [
    {
     "name": "stdout",
     "output_type": "stream",
     "text": [
      "['Boumach', 'Kholse', 'Mini', 'Pabda', 'Puti', 'Shrimp']\n",
      "total class  6\n"
     ]
    }
   ],
   "source": [
    "testing_dataset = 'D:\\\\Research database\\\\Fish Detection\\\\Test\\\\' \n",
    "main_classes = os.listdir(testing_dataset) \n",
    "print(main_classes)\n",
    "len_main_classes = len(main_classes)\n",
    "print('total class ',len_main_classes)"
   ]
  },
  {
   "cell_type": "code",
   "execution_count": 3,
   "id": "de3de270",
   "metadata": {},
   "outputs": [
    {
     "name": "stdout",
     "output_type": "stream",
     "text": [
      "100  images prediction completed. Time taken 3.72 s\n",
      "200  images prediction completed. Time taken 1.05 s\n",
      "300  images prediction completed. Time taken 3.41 s\n",
      "400  images prediction completed. Time taken 4.34 s\n",
      "500  images prediction completed. Time taken 2.47 s\n",
      "600  images prediction completed. Time taken 1.73 s\n",
      "700  images prediction completed. Time taken 9.01 s\n"
     ]
    }
   ],
   "source": [
    "real_calss_list = list()\n",
    "prediction_class_list = list()\n",
    "image_classes = os.listdir(testing_dataset)\n",
    "count = 0\n",
    "for real_class, category in enumerate(image_classes):\n",
    "    category_dir =  os.path.join(testing_dataset,category)\n",
    "    start_time = time.time()\n",
    "    for img_name in os.listdir(category_dir):\n",
    "        img_path = os.path.join(category_dir,img_name)\n",
    "        single_image  = load_img(img_path, grayscale=False,target_size=(324, 324), color_mode='rgb')\n",
    "        img_array = image.img_to_array(single_image)/255\n",
    "        img_batch = np.expand_dims(img_array, axis=0)\n",
    "        prediction = model.predict_classes(img_batch)[0]\n",
    "        real_calss_list.append(real_class)\n",
    "        prediction_class_list.append(prediction)\n",
    "        count = count + 1\n",
    "        if count%100 == 0:\n",
    "            print(count,' images prediction completed. Time taken {:.2f} s'.format(time.time()-start_time))\n",
    "            start_time = time.time()\n",
    "        "
   ]
  },
  {
   "cell_type": "code",
   "execution_count": 4,
   "id": "41e8c444",
   "metadata": {},
   "outputs": [],
   "source": [
    "df_dict = {'real':real_calss_list,'prediction':prediction_class_list}\n",
    "df = pd.DataFrame(df_dict)\n",
    "df.to_excel('model_1_realVs_pred.xlsx',index = False)"
   ]
  },
  {
   "cell_type": "code",
   "execution_count": 5,
   "id": "2a68f1a0",
   "metadata": {},
   "outputs": [
    {
     "name": "stdout",
     "output_type": "stream",
     "text": [
      "              precision    recall  f1-score   support\n",
      "\n",
      "     Boumach       0.98      1.00      0.99       163\n",
      "      Kholse       0.99      0.98      0.98       164\n",
      "        Mini       1.00      0.98      0.99        98\n",
      "       Pabda       1.00      1.00      1.00       102\n",
      "        Puti       1.00      1.00      1.00        48\n",
      "      Shrimp       1.00      1.00      1.00       156\n",
      "\n",
      "    accuracy                           0.99       731\n",
      "   macro avg       0.99      0.99      0.99       731\n",
      "weighted avg       0.99      0.99      0.99       731\n",
      "\n"
     ]
    }
   ],
   "source": [
    "from sklearn.metrics import classification_report\n",
    "target_names = ['Boumach', 'Kholse', 'Mini', 'Pabda', 'Puti', 'Shrimp']\n",
    "print(classification_report(real_calss_list, prediction_class_list, target_names=target_names))"
   ]
  }
 ],
 "metadata": {
  "kernelspec": {
   "display_name": "venvAI",
   "language": "python",
   "name": "venvai"
  },
  "language_info": {
   "codemirror_mode": {
    "name": "ipython",
    "version": 3
   },
   "file_extension": ".py",
   "mimetype": "text/x-python",
   "name": "python",
   "nbconvert_exporter": "python",
   "pygments_lexer": "ipython3",
   "version": "3.6.8"
  }
 },
 "nbformat": 4,
 "nbformat_minor": 5
}
